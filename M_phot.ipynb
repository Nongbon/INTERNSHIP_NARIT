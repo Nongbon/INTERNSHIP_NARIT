{
  "nbformat": 4,
  "nbformat_minor": 0,
  "metadata": {
    "colab": {
      "name": "M_phot.ipynb",
      "provenance": [],
      "include_colab_link": true
    },
    "kernelspec": {
      "name": "python3",
      "display_name": "Python 3"
    },
    "language_info": {
      "name": "python"
    }
  },
  "cells": [
    {
      "cell_type": "markdown",
      "metadata": {
        "id": "view-in-github",
        "colab_type": "text"
      },
      "source": [
        "<a href=\"https://colab.research.google.com/github/Nongbon/INTERNSHIP_NARIT/blob/main/M_phot.ipynb\" target=\"_parent\"><img src=\"https://colab.research.google.com/assets/colab-badge.svg\" alt=\"Open In Colab\"/></a>"
      ]
    },
    {
      "cell_type": "code",
      "metadata": {
        "id": "iRDKJfbat2eq"
      },
      "source": [
        "import numpy as np\n",
        "import pandas as pd\n",
        "import matplotlib.pyplot as plt\n",
        "import math \n",
        "import seaborn as sns\n"
      ],
      "execution_count": 2,
      "outputs": []
    },
    {
      "cell_type": "code",
      "metadata": {
        "colab": {
          "base_uri": "https://localhost:8080/"
        },
        "id": "8DpJYveLC7mR",
        "outputId": "11d920a5-d8f5-4e9b-d310-053e449c0718"
      },
      "source": [
        "!wget https://raw.githubusercontent.com/Nongbon/INTERNSHIP_NARIT/main/data_phot.csv"
      ],
      "execution_count": 3,
      "outputs": [
        {
          "output_type": "stream",
          "text": [
            "--2021-05-17 11:44:16--  https://raw.githubusercontent.com/Nongbon/INTERNSHIP_NARIT/main/data_phot.csv\n",
            "Resolving raw.githubusercontent.com (raw.githubusercontent.com)... 185.199.111.133, 185.199.110.133, 185.199.109.133, ...\n",
            "Connecting to raw.githubusercontent.com (raw.githubusercontent.com)|185.199.111.133|:443... connected.\n",
            "HTTP request sent, awaiting response... 200 OK\n",
            "Length: 22722 (22K) [text/plain]\n",
            "Saving to: ‘data_phot.csv’\n",
            "\n",
            "\rdata_phot.csv         0%[                    ]       0  --.-KB/s               \rdata_phot.csv       100%[===================>]  22.19K  --.-KB/s    in 0.002s  \n",
            "\n",
            "2021-05-17 11:44:17 (9.02 MB/s) - ‘data_phot.csv’ saved [22722/22722]\n",
            "\n"
          ],
          "name": "stdout"
        }
      ]
    },
    {
      "cell_type": "code",
      "metadata": {
        "colab": {
          "base_uri": "https://localhost:8080/",
          "height": 402
        },
        "id": "Yi722YHauso8",
        "outputId": "d104d5a9-1960-4ca2-ce9c-0dde450ad864"
      },
      "source": [
        "data_phot = pd.read_csv(\"data_phot.csv\").drop(['E(B-V)'],axis=1)\n",
        "data_phot"
      ],
      "execution_count": 4,
      "outputs": [
        {
          "output_type": "execute_result",
          "data": {
            "text/html": [
              "<div>\n",
              "<style scoped>\n",
              "    .dataframe tbody tr th:only-of-type {\n",
              "        vertical-align: middle;\n",
              "    }\n",
              "\n",
              "    .dataframe tbody tr th {\n",
              "        vertical-align: top;\n",
              "    }\n",
              "\n",
              "    .dataframe thead th {\n",
              "        text-align: right;\n",
              "    }\n",
              "</style>\n",
              "<table border=\"1\" class=\"dataframe\">\n",
              "  <thead>\n",
              "    <tr style=\"text-align: right;\">\n",
              "      <th></th>\n",
              "      <th>KIC</th>\n",
              "      <th>d_est</th>\n",
              "      <th>d_lo</th>\n",
              "      <th>d_hi</th>\n",
              "      <th>A_r</th>\n",
              "      <th>A_J</th>\n",
              "      <th>A_K</th>\n",
              "      <th>r</th>\n",
              "      <th>J</th>\n",
              "      <th>K</th>\n",
              "    </tr>\n",
              "  </thead>\n",
              "  <tbody>\n",
              "    <tr>\n",
              "      <th>0</th>\n",
              "      <td>1433760</td>\n",
              "      <td>192.958633</td>\n",
              "      <td>190.228856</td>\n",
              "      <td>195.766455</td>\n",
              "      <td>0.053545</td>\n",
              "      <td>0.014017</td>\n",
              "      <td>0.003472</td>\n",
              "      <td>16.982</td>\n",
              "      <td>13.884</td>\n",
              "      <td>13.128</td>\n",
              "    </tr>\n",
              "    <tr>\n",
              "      <th>1</th>\n",
              "      <td>2831828</td>\n",
              "      <td>106.524990</td>\n",
              "      <td>105.009638</td>\n",
              "      <td>108.083913</td>\n",
              "      <td>0.019206</td>\n",
              "      <td>0.005028</td>\n",
              "      <td>0.001245</td>\n",
              "      <td>18.779</td>\n",
              "      <td>14.845</td>\n",
              "      <td>14.062</td>\n",
              "    </tr>\n",
              "    <tr>\n",
              "      <th>2</th>\n",
              "      <td>2971472</td>\n",
              "      <td>40.706364</td>\n",
              "      <td>40.647560</td>\n",
              "      <td>40.765336</td>\n",
              "      <td>0.009219</td>\n",
              "      <td>0.002413</td>\n",
              "      <td>0.000598</td>\n",
              "      <td>14.948</td>\n",
              "      <td>10.889</td>\n",
              "      <td>10.028</td>\n",
              "    </tr>\n",
              "    <tr>\n",
              "      <th>3</th>\n",
              "      <td>2983661</td>\n",
              "      <td>148.671765</td>\n",
              "      <td>147.470011</td>\n",
              "      <td>149.892912</td>\n",
              "      <td>0.042638</td>\n",
              "      <td>0.011162</td>\n",
              "      <td>0.002765</td>\n",
              "      <td>16.738</td>\n",
              "      <td>13.490</td>\n",
              "      <td>12.695</td>\n",
              "    </tr>\n",
              "    <tr>\n",
              "      <th>4</th>\n",
              "      <td>3101838</td>\n",
              "      <td>201.853369</td>\n",
              "      <td>199.615989</td>\n",
              "      <td>204.140557</td>\n",
              "      <td>0.066318</td>\n",
              "      <td>0.017361</td>\n",
              "      <td>0.004300</td>\n",
              "      <td>16.470</td>\n",
              "      <td>13.252</td>\n",
              "      <td>12.375</td>\n",
              "    </tr>\n",
              "    <tr>\n",
              "      <th>...</th>\n",
              "      <td>...</td>\n",
              "      <td>...</td>\n",
              "      <td>...</td>\n",
              "      <td>...</td>\n",
              "      <td>...</td>\n",
              "      <td>...</td>\n",
              "      <td>...</td>\n",
              "      <td>...</td>\n",
              "      <td>...</td>\n",
              "      <td>...</td>\n",
              "    </tr>\n",
              "    <tr>\n",
              "      <th>203</th>\n",
              "      <td>12508767</td>\n",
              "      <td>75.955190</td>\n",
              "      <td>75.746448</td>\n",
              "      <td>76.165065</td>\n",
              "      <td>0.019169</td>\n",
              "      <td>0.005018</td>\n",
              "      <td>0.001243</td>\n",
              "      <td>15.216</td>\n",
              "      <td>11.977</td>\n",
              "      <td>11.166</td>\n",
              "    </tr>\n",
              "    <tr>\n",
              "      <th>204</th>\n",
              "      <td>12645891</td>\n",
              "      <td>199.483571</td>\n",
              "      <td>195.889349</td>\n",
              "      <td>203.209705</td>\n",
              "      <td>0.032299</td>\n",
              "      <td>0.008455</td>\n",
              "      <td>0.002094</td>\n",
              "      <td>17.989</td>\n",
              "      <td>14.318</td>\n",
              "      <td>13.638</td>\n",
              "    </tr>\n",
              "    <tr>\n",
              "      <th>205</th>\n",
              "      <td>12735831</td>\n",
              "      <td>68.307667</td>\n",
              "      <td>68.080168</td>\n",
              "      <td>68.536664</td>\n",
              "      <td>0.013548</td>\n",
              "      <td>0.003546</td>\n",
              "      <td>0.000878</td>\n",
              "      <td>16.321</td>\n",
              "      <td>12.940</td>\n",
              "      <td>12.163</td>\n",
              "    </tr>\n",
              "    <tr>\n",
              "      <th>206</th>\n",
              "      <td>12784248</td>\n",
              "      <td>79.894261</td>\n",
              "      <td>79.242447</td>\n",
              "      <td>80.556692</td>\n",
              "      <td>0.020554</td>\n",
              "      <td>0.005381</td>\n",
              "      <td>0.001333</td>\n",
              "      <td>18.788</td>\n",
              "      <td>14.281</td>\n",
              "      <td>13.403</td>\n",
              "    </tr>\n",
              "    <tr>\n",
              "      <th>207</th>\n",
              "      <td>12884812</td>\n",
              "      <td>126.623999</td>\n",
              "      <td>125.623639</td>\n",
              "      <td>127.640130</td>\n",
              "      <td>0.027031</td>\n",
              "      <td>0.007076</td>\n",
              "      <td>0.001753</td>\n",
              "      <td>16.742</td>\n",
              "      <td>13.406</td>\n",
              "      <td>12.527</td>\n",
              "    </tr>\n",
              "  </tbody>\n",
              "</table>\n",
              "<p>208 rows × 10 columns</p>\n",
              "</div>"
            ],
            "text/plain": [
              "          KIC       d_est        d_lo  ...       r       J       K\n",
              "0     1433760  192.958633  190.228856  ...  16.982  13.884  13.128\n",
              "1     2831828  106.524990  105.009638  ...  18.779  14.845  14.062\n",
              "2     2971472   40.706364   40.647560  ...  14.948  10.889  10.028\n",
              "3     2983661  148.671765  147.470011  ...  16.738  13.490  12.695\n",
              "4     3101838  201.853369  199.615989  ...  16.470  13.252  12.375\n",
              "..        ...         ...         ...  ...     ...     ...     ...\n",
              "203  12508767   75.955190   75.746448  ...  15.216  11.977  11.166\n",
              "204  12645891  199.483571  195.889349  ...  17.989  14.318  13.638\n",
              "205  12735831   68.307667   68.080168  ...  16.321  12.940  12.163\n",
              "206  12784248   79.894261   79.242447  ...  18.788  14.281  13.403\n",
              "207  12884812  126.623999  125.623639  ...  16.742  13.406  12.527\n",
              "\n",
              "[208 rows x 10 columns]"
            ]
          },
          "metadata": {
            "tags": []
          },
          "execution_count": 4
        }
      ]
    },
    {
      "cell_type": "code",
      "metadata": {
        "colab": {
          "base_uri": "https://localhost:8080/",
          "height": 402
        },
        "id": "-2LxHlbWEWxd",
        "outputId": "dfd2de5b-5c44-444b-d93c-df4c5c4791cd"
      },
      "source": [
        "data_phot['d_hi-d'] = data_phot.d_hi - data_phot.d_est\n",
        "data_phot['d_lo-d'] = data_phot.d_lo - data_phot.d_est\n",
        "data_phot['sd'] = (data_phot['d_hi-d'] + data_phot['d_lo-d']) / 2  \n",
        "data_phot"
      ],
      "execution_count": 28,
      "outputs": [
        {
          "output_type": "execute_result",
          "data": {
            "text/html": [
              "<div>\n",
              "<style scoped>\n",
              "    .dataframe tbody tr th:only-of-type {\n",
              "        vertical-align: middle;\n",
              "    }\n",
              "\n",
              "    .dataframe tbody tr th {\n",
              "        vertical-align: top;\n",
              "    }\n",
              "\n",
              "    .dataframe thead th {\n",
              "        text-align: right;\n",
              "    }\n",
              "</style>\n",
              "<table border=\"1\" class=\"dataframe\">\n",
              "  <thead>\n",
              "    <tr style=\"text-align: right;\">\n",
              "      <th></th>\n",
              "      <th>KIC</th>\n",
              "      <th>d_est</th>\n",
              "      <th>d_lo</th>\n",
              "      <th>d_hi</th>\n",
              "      <th>A_r</th>\n",
              "      <th>A_J</th>\n",
              "      <th>A_K</th>\n",
              "      <th>r</th>\n",
              "      <th>J</th>\n",
              "      <th>K</th>\n",
              "      <th>d_hi-d</th>\n",
              "      <th>d_lo-d</th>\n",
              "      <th>sd</th>\n",
              "    </tr>\n",
              "  </thead>\n",
              "  <tbody>\n",
              "    <tr>\n",
              "      <th>0</th>\n",
              "      <td>1433760</td>\n",
              "      <td>192.958633</td>\n",
              "      <td>190.228856</td>\n",
              "      <td>195.766455</td>\n",
              "      <td>0.053545</td>\n",
              "      <td>0.014017</td>\n",
              "      <td>0.003472</td>\n",
              "      <td>16.982</td>\n",
              "      <td>13.884</td>\n",
              "      <td>13.128</td>\n",
              "      <td>2.807822</td>\n",
              "      <td>-2.729777</td>\n",
              "      <td>0.039023</td>\n",
              "    </tr>\n",
              "    <tr>\n",
              "      <th>1</th>\n",
              "      <td>2831828</td>\n",
              "      <td>106.524990</td>\n",
              "      <td>105.009638</td>\n",
              "      <td>108.083913</td>\n",
              "      <td>0.019206</td>\n",
              "      <td>0.005028</td>\n",
              "      <td>0.001245</td>\n",
              "      <td>18.779</td>\n",
              "      <td>14.845</td>\n",
              "      <td>14.062</td>\n",
              "      <td>1.558923</td>\n",
              "      <td>-1.515352</td>\n",
              "      <td>0.021786</td>\n",
              "    </tr>\n",
              "    <tr>\n",
              "      <th>2</th>\n",
              "      <td>2971472</td>\n",
              "      <td>40.706364</td>\n",
              "      <td>40.647560</td>\n",
              "      <td>40.765336</td>\n",
              "      <td>0.009219</td>\n",
              "      <td>0.002413</td>\n",
              "      <td>0.000598</td>\n",
              "      <td>14.948</td>\n",
              "      <td>10.889</td>\n",
              "      <td>10.028</td>\n",
              "      <td>0.058972</td>\n",
              "      <td>-0.058804</td>\n",
              "      <td>0.000084</td>\n",
              "    </tr>\n",
              "    <tr>\n",
              "      <th>3</th>\n",
              "      <td>2983661</td>\n",
              "      <td>148.671765</td>\n",
              "      <td>147.470011</td>\n",
              "      <td>149.892912</td>\n",
              "      <td>0.042638</td>\n",
              "      <td>0.011162</td>\n",
              "      <td>0.002765</td>\n",
              "      <td>16.738</td>\n",
              "      <td>13.490</td>\n",
              "      <td>12.695</td>\n",
              "      <td>1.221147</td>\n",
              "      <td>-1.201754</td>\n",
              "      <td>0.009696</td>\n",
              "    </tr>\n",
              "    <tr>\n",
              "      <th>4</th>\n",
              "      <td>3101838</td>\n",
              "      <td>201.853369</td>\n",
              "      <td>199.615989</td>\n",
              "      <td>204.140557</td>\n",
              "      <td>0.066318</td>\n",
              "      <td>0.017361</td>\n",
              "      <td>0.004300</td>\n",
              "      <td>16.470</td>\n",
              "      <td>13.252</td>\n",
              "      <td>12.375</td>\n",
              "      <td>2.287188</td>\n",
              "      <td>-2.237380</td>\n",
              "      <td>0.024904</td>\n",
              "    </tr>\n",
              "    <tr>\n",
              "      <th>...</th>\n",
              "      <td>...</td>\n",
              "      <td>...</td>\n",
              "      <td>...</td>\n",
              "      <td>...</td>\n",
              "      <td>...</td>\n",
              "      <td>...</td>\n",
              "      <td>...</td>\n",
              "      <td>...</td>\n",
              "      <td>...</td>\n",
              "      <td>...</td>\n",
              "      <td>...</td>\n",
              "      <td>...</td>\n",
              "      <td>...</td>\n",
              "    </tr>\n",
              "    <tr>\n",
              "      <th>203</th>\n",
              "      <td>12508767</td>\n",
              "      <td>75.955190</td>\n",
              "      <td>75.746448</td>\n",
              "      <td>76.165065</td>\n",
              "      <td>0.019169</td>\n",
              "      <td>0.005018</td>\n",
              "      <td>0.001243</td>\n",
              "      <td>15.216</td>\n",
              "      <td>11.977</td>\n",
              "      <td>11.166</td>\n",
              "      <td>0.209875</td>\n",
              "      <td>-0.208742</td>\n",
              "      <td>0.000567</td>\n",
              "    </tr>\n",
              "    <tr>\n",
              "      <th>204</th>\n",
              "      <td>12645891</td>\n",
              "      <td>199.483571</td>\n",
              "      <td>195.889349</td>\n",
              "      <td>203.209705</td>\n",
              "      <td>0.032299</td>\n",
              "      <td>0.008455</td>\n",
              "      <td>0.002094</td>\n",
              "      <td>17.989</td>\n",
              "      <td>14.318</td>\n",
              "      <td>13.638</td>\n",
              "      <td>3.726134</td>\n",
              "      <td>-3.594222</td>\n",
              "      <td>0.065956</td>\n",
              "    </tr>\n",
              "    <tr>\n",
              "      <th>205</th>\n",
              "      <td>12735831</td>\n",
              "      <td>68.307667</td>\n",
              "      <td>68.080168</td>\n",
              "      <td>68.536664</td>\n",
              "      <td>0.013548</td>\n",
              "      <td>0.003546</td>\n",
              "      <td>0.000878</td>\n",
              "      <td>16.321</td>\n",
              "      <td>12.940</td>\n",
              "      <td>12.163</td>\n",
              "      <td>0.228997</td>\n",
              "      <td>-0.227499</td>\n",
              "      <td>0.000749</td>\n",
              "    </tr>\n",
              "    <tr>\n",
              "      <th>206</th>\n",
              "      <td>12784248</td>\n",
              "      <td>79.894261</td>\n",
              "      <td>79.242447</td>\n",
              "      <td>80.556692</td>\n",
              "      <td>0.020554</td>\n",
              "      <td>0.005381</td>\n",
              "      <td>0.001333</td>\n",
              "      <td>18.788</td>\n",
              "      <td>14.281</td>\n",
              "      <td>13.403</td>\n",
              "      <td>0.662431</td>\n",
              "      <td>-0.651813</td>\n",
              "      <td>0.005309</td>\n",
              "    </tr>\n",
              "    <tr>\n",
              "      <th>207</th>\n",
              "      <td>12884812</td>\n",
              "      <td>126.623999</td>\n",
              "      <td>125.623639</td>\n",
              "      <td>127.640130</td>\n",
              "      <td>0.027031</td>\n",
              "      <td>0.007076</td>\n",
              "      <td>0.001753</td>\n",
              "      <td>16.742</td>\n",
              "      <td>13.406</td>\n",
              "      <td>12.527</td>\n",
              "      <td>1.016131</td>\n",
              "      <td>-1.000360</td>\n",
              "      <td>0.007886</td>\n",
              "    </tr>\n",
              "  </tbody>\n",
              "</table>\n",
              "<p>208 rows × 13 columns</p>\n",
              "</div>"
            ],
            "text/plain": [
              "          KIC       d_est        d_lo  ...    d_hi-d    d_lo-d        sd\n",
              "0     1433760  192.958633  190.228856  ...  2.807822 -2.729777  0.039023\n",
              "1     2831828  106.524990  105.009638  ...  1.558923 -1.515352  0.021786\n",
              "2     2971472   40.706364   40.647560  ...  0.058972 -0.058804  0.000084\n",
              "3     2983661  148.671765  147.470011  ...  1.221147 -1.201754  0.009696\n",
              "4     3101838  201.853369  199.615989  ...  2.287188 -2.237380  0.024904\n",
              "..        ...         ...         ...  ...       ...       ...       ...\n",
              "203  12508767   75.955190   75.746448  ...  0.209875 -0.208742  0.000567\n",
              "204  12645891  199.483571  195.889349  ...  3.726134 -3.594222  0.065956\n",
              "205  12735831   68.307667   68.080168  ...  0.228997 -0.227499  0.000749\n",
              "206  12784248   79.894261   79.242447  ...  0.662431 -0.651813  0.005309\n",
              "207  12884812  126.623999  125.623639  ...  1.016131 -1.000360  0.007886\n",
              "\n",
              "[208 rows x 13 columns]"
            ]
          },
          "metadata": {
            "tags": []
          },
          "execution_count": 28
        }
      ]
    },
    {
      "cell_type": "code",
      "metadata": {
        "colab": {
          "base_uri": "https://localhost:8080/",
          "height": 402
        },
        "id": "ZaX69EVxHpvB",
        "outputId": "8c7d5a2d-5812-4655-b632-8614eb971b86"
      },
      "source": [
        "#GENERATE\n",
        "data_sample = np.random.normal(data_phot.d_est[0] ,data_phot.sd[0], 10**4)\n",
        "sample = pd.DataFrame(data_sample,columns=['M_r'])\n",
        "sample"
      ],
      "execution_count": 78,
      "outputs": [
        {
          "output_type": "execute_result",
          "data": {
            "text/html": [
              "<div>\n",
              "<style scoped>\n",
              "    .dataframe tbody tr th:only-of-type {\n",
              "        vertical-align: middle;\n",
              "    }\n",
              "\n",
              "    .dataframe tbody tr th {\n",
              "        vertical-align: top;\n",
              "    }\n",
              "\n",
              "    .dataframe thead th {\n",
              "        text-align: right;\n",
              "    }\n",
              "</style>\n",
              "<table border=\"1\" class=\"dataframe\">\n",
              "  <thead>\n",
              "    <tr style=\"text-align: right;\">\n",
              "      <th></th>\n",
              "      <th>M_r</th>\n",
              "    </tr>\n",
              "  </thead>\n",
              "  <tbody>\n",
              "    <tr>\n",
              "      <th>0</th>\n",
              "      <td>192.904347</td>\n",
              "    </tr>\n",
              "    <tr>\n",
              "      <th>1</th>\n",
              "      <td>192.936694</td>\n",
              "    </tr>\n",
              "    <tr>\n",
              "      <th>2</th>\n",
              "      <td>193.000984</td>\n",
              "    </tr>\n",
              "    <tr>\n",
              "      <th>3</th>\n",
              "      <td>193.039505</td>\n",
              "    </tr>\n",
              "    <tr>\n",
              "      <th>4</th>\n",
              "      <td>192.899623</td>\n",
              "    </tr>\n",
              "    <tr>\n",
              "      <th>...</th>\n",
              "      <td>...</td>\n",
              "    </tr>\n",
              "    <tr>\n",
              "      <th>9995</th>\n",
              "      <td>193.027769</td>\n",
              "    </tr>\n",
              "    <tr>\n",
              "      <th>9996</th>\n",
              "      <td>192.985184</td>\n",
              "    </tr>\n",
              "    <tr>\n",
              "      <th>9997</th>\n",
              "      <td>192.953756</td>\n",
              "    </tr>\n",
              "    <tr>\n",
              "      <th>9998</th>\n",
              "      <td>192.946020</td>\n",
              "    </tr>\n",
              "    <tr>\n",
              "      <th>9999</th>\n",
              "      <td>192.987201</td>\n",
              "    </tr>\n",
              "  </tbody>\n",
              "</table>\n",
              "<p>10000 rows × 1 columns</p>\n",
              "</div>"
            ],
            "text/plain": [
              "             M_r\n",
              "0     192.904347\n",
              "1     192.936694\n",
              "2     193.000984\n",
              "3     193.039505\n",
              "4     192.899623\n",
              "...          ...\n",
              "9995  193.027769\n",
              "9996  192.985184\n",
              "9997  192.953756\n",
              "9998  192.946020\n",
              "9999  192.987201\n",
              "\n",
              "[10000 rows x 1 columns]"
            ]
          },
          "metadata": {
            "tags": []
          },
          "execution_count": 78
        }
      ]
    },
    {
      "cell_type": "code",
      "metadata": {
        "colab": {
          "base_uri": "https://localhost:8080/",
          "height": 335
        },
        "id": "Wu1vG0UKLxsY",
        "outputId": "d04e70f1-1bef-4ace-e32a-23059684497b"
      },
      "source": [
        "sns.distplot(data_sample , hist=False)"
      ],
      "execution_count": 65,
      "outputs": [
        {
          "output_type": "stream",
          "text": [
            "/usr/local/lib/python3.7/dist-packages/seaborn/distributions.py:2557: FutureWarning: `distplot` is a deprecated function and will be removed in a future version. Please adapt your code to use either `displot` (a figure-level function with similar flexibility) or `kdeplot` (an axes-level function for kernel density plots).\n",
            "  warnings.warn(msg, FutureWarning)\n"
          ],
          "name": "stderr"
        },
        {
          "output_type": "execute_result",
          "data": {
            "text/plain": [
              "<matplotlib.axes._subplots.AxesSubplot at 0x7fc4a3b95f50>"
            ]
          },
          "metadata": {
            "tags": []
          },
          "execution_count": 65
        },
        {
          "output_type": "display_data",
          "data": {
            "image/png": "[encoded data removed]",
            "text/plain": [
              "<Figure size 432x288 with 1 Axes>"
            ]
          },
          "metadata": {
            "tags": [],
            "needs_background": "light"
          }
        }
      ]
    },
    {
      "cell_type": "code",
      "metadata": {
        "colab": {
          "base_uri": "https://localhost:8080/",
          "height": 402
        },
        "id": "7hEc1oi98jUm",
        "outputId": "09dfce53-fc40-49d7-a7fb-2c0b202ed54c"
      },
      "source": [
        "# M = m - 5[log(d)-1] - A\n",
        "M_r = data_phot.r[0] - 5 * (np.log10(sample)-1) - data_phot.A_r[0]\n",
        "M_r"
      ],
      "execution_count": 79,
      "outputs": [
        {
          "output_type": "execute_result",
          "data": {
            "text/html": [
              "<div>\n",
              "<style scoped>\n",
              "    .dataframe tbody tr th:only-of-type {\n",
              "        vertical-align: middle;\n",
              "    }\n",
              "\n",
              "    .dataframe tbody tr th {\n",
              "        vertical-align: top;\n",
              "    }\n",
              "\n",
              "    .dataframe thead th {\n",
              "        text-align: right;\n",
              "    }\n",
              "</style>\n",
              "<table border=\"1\" class=\"dataframe\">\n",
              "  <thead>\n",
              "    <tr style=\"text-align: right;\">\n",
              "      <th></th>\n",
              "      <th>M_r</th>\n",
              "    </tr>\n",
              "  </thead>\n",
              "  <tbody>\n",
              "    <tr>\n",
              "      <th>0</th>\n",
              "      <td>10.501745</td>\n",
              "    </tr>\n",
              "    <tr>\n",
              "      <th>1</th>\n",
              "      <td>10.501381</td>\n",
              "    </tr>\n",
              "    <tr>\n",
              "      <th>2</th>\n",
              "      <td>10.500657</td>\n",
              "    </tr>\n",
              "    <tr>\n",
              "      <th>3</th>\n",
              "      <td>10.500224</td>\n",
              "    </tr>\n",
              "    <tr>\n",
              "      <th>4</th>\n",
              "      <td>10.501798</td>\n",
              "    </tr>\n",
              "    <tr>\n",
              "      <th>...</th>\n",
              "      <td>...</td>\n",
              "    </tr>\n",
              "    <tr>\n",
              "      <th>9995</th>\n",
              "      <td>10.500356</td>\n",
              "    </tr>\n",
              "    <tr>\n",
              "      <th>9996</th>\n",
              "      <td>10.500835</td>\n",
              "    </tr>\n",
              "    <tr>\n",
              "      <th>9997</th>\n",
              "      <td>10.501189</td>\n",
              "    </tr>\n",
              "    <tr>\n",
              "      <th>9998</th>\n",
              "      <td>10.501276</td>\n",
              "    </tr>\n",
              "    <tr>\n",
              "      <th>9999</th>\n",
              "      <td>10.500812</td>\n",
              "    </tr>\n",
              "  </tbody>\n",
              "</table>\n",
              "<p>10000 rows × 1 columns</p>\n",
              "</div>"
            ],
            "text/plain": [
              "            M_r\n",
              "0     10.501745\n",
              "1     10.501381\n",
              "2     10.500657\n",
              "3     10.500224\n",
              "4     10.501798\n",
              "...         ...\n",
              "9995  10.500356\n",
              "9996  10.500835\n",
              "9997  10.501189\n",
              "9998  10.501276\n",
              "9999  10.500812\n",
              "\n",
              "[10000 rows x 1 columns]"
            ]
          },
          "metadata": {
            "tags": []
          },
          "execution_count": 79
        }
      ]
    },
    {
      "cell_type": "code",
      "metadata": {
        "id": "BSQTZkamps_e",
        "outputId": "44f55d75-ba46-4bce-b7cc-8a1cc7d0fd18",
        "colab": {
          "base_uri": "https://localhost:8080/"
        }
      },
      "source": [
        "np.mean(M_r)"
      ],
      "execution_count": 81,
      "outputs": [
        {
          "output_type": "execute_result",
          "data": {
            "text/plain": [
              "M_r    10.501142\n",
              "dtype: float64"
            ]
          },
          "metadata": {
            "tags": []
          },
          "execution_count": 81
        }
      ]
    },
    {
      "cell_type": "code",
      "metadata": {
        "id": "-s3gfllKn4Vl",
        "outputId": "73094b6c-bbe5-4466-c029-e122b977d14d",
        "colab": {
          "base_uri": "https://localhost:8080/",
          "height": 349
        }
      },
      "source": [
        "sns.distplot(M_r , hist=False)"
      ],
      "execution_count": 77,
      "outputs": [
        {
          "output_type": "stream",
          "text": [
            "/usr/local/lib/python3.7/dist-packages/seaborn/distributions.py:2557: FutureWarning: `distplot` is a deprecated function and will be removed in a future version. Please adapt your code to use either `displot` (a figure-level function with similar flexibility) or `kdeplot` (an axes-level function for kernel density plots).\n",
            "  warnings.warn(msg, FutureWarning)\n"
          ],
          "name": "stderr"
        },
        {
          "output_type": "execute_result",
          "data": {
            "text/plain": [
              "<matplotlib.axes._subplots.AxesSubplot at 0x7fc4a39e77d0>"
            ]
          },
          "metadata": {
            "tags": []
          },
          "execution_count": 77
        },
        {
          "output_type": "display_data",
          "data": {
            "image/png": "[encoded data removed]",
            "text/plain": [
              "<Figure size 432x288 with 1 Axes>"
            ]
          },
          "metadata": {
            "tags": [],
            "needs_background": "light"
          }
        }
      ]
    }
  ]
}